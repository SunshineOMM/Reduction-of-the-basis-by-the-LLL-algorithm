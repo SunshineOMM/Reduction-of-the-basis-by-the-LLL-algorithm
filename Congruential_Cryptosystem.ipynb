{
 "cells": [
  {
   "cell_type": "code",
   "execution_count": 12,
   "id": "05d0f386",
   "metadata": {},
   "outputs": [],
   "source": [
    "def extEucl(m, n):\n",
    "    \"\"\"\n",
    "    Возвращает тройку (d,u,v) таких, что d — наибольший общий делитель пары (m,n) и d=um+vn\n",
    "    \"\"\"\n",
    "    (a, b) = (m, n)\n",
    "    u1 = 1; v1 = 0\n",
    "    u2 = 0; v2 = 1\n",
    "\n",
    "    while b != 0:\n",
    "        assert (a == u1*m + v1*n and b == u2*m + v2*n)\n",
    "\n",
    "        q = a // b; r = a % b\n",
    "        assert (a == q*b + r)\n",
    "\n",
    "        (a, b) = (b, r)\n",
    "        (u1, u2) = (u2, u1 - q*u2)\n",
    "        (v1, v2) = (v2, v1 - q*v2)\n",
    "\n",
    "    if a >= 0:\n",
    "        return (a, u1, v1)\n",
    "    else:\n",
    "        return (-a, -u1, -v1)\n",
    "    \n",
    "def invmod(x, m):\n",
    "    \"\"\"\n",
    "    Возвращает обратный к x элемент, если x обратим (т.е. целые числа x,m взаимно простые),\n",
    "    иначе - исключение типа ValueError\n",
    "    \"\"\"\n",
    "    assert(m != 0)\n",
    "    (d, u, v) = extEucl(m, x)\n",
    "    if d == 1:\n",
    "        return v%m\n",
    "    else:\n",
    "        raise ValueError(\"Element is not invertible modulo m\")\n",
    "        \n",
    "def calc_comparison(h,m,a=1):\n",
    "    \"\"\"\n",
    "    Решение сравнения: a*x≡h(mod m)\n",
    "    \"\"\"\n",
    "    q=[]\n",
    "    (a, b) = (m, a)\n",
    "    c=m\n",
    "    while b != 0:\n",
    "        (a, b) = (b, a%b)     \n",
    "        q.append((c-b)//a)\n",
    "        c=a\n",
    "        \n",
    "    P=[0 for i in range(len(q))]\n",
    "    for i in range(len(q)):\n",
    "        if i==0:\n",
    "            P[0]=q[0]\n",
    "        elif i==1:\n",
    "            P[1]=q[1]*P[0]+1\n",
    "        else:\n",
    "            P[i]=q[i]*P[i-1]+P[i-2]\n",
    "            \n",
    "    return (((-1)**(len(q)-1))*P[-2]*h)%m"
   ]
  },
  {
   "cell_type": "markdown",
   "id": "f4a9e32e",
   "metadata": {},
   "source": [
    "## Алиса выбирает открытые и закрытые параметры"
   ]
  },
  {
   "cell_type": "markdown",
   "id": "22f35e85",
   "metadata": {},
   "source": [
    "* q - большое положительное целое число\n",
    "* f - целое число, удовлетворяющее условию: $$f<\\sqrt{\\frac{q}{2}}$$\n",
    "* g - целое число, удовлетворяющее условию: $$\\sqrt{\\frac{q}{4}}<g<\\sqrt{\\frac{q}{2}}$$\n",
    "\n",
    "Так же, f и g подбираются таким образом, что:\n",
    "$$(f,qg) = 1$$"
   ]
  },
  {
   "cell_type": "code",
   "execution_count": 13,
   "id": "a01b47b4",
   "metadata": {},
   "outputs": [],
   "source": [
    "q = 122430513841\n",
    "f = 231231\n",
    "g = 195698"
   ]
  },
  {
   "cell_type": "markdown",
   "id": "67fee73e",
   "metadata": {},
   "source": [
    "Вычисляем $$f^{-1}$$ по модулю **q**"
   ]
  },
  {
   "cell_type": "code",
   "execution_count": 21,
   "id": "984ccaf5",
   "metadata": {},
   "outputs": [],
   "source": [
    "f_i=invmod(f,q)\n",
    "assert f_i==49194372303"
   ]
  },
  {
   "cell_type": "markdown",
   "id": "5b74b1d1",
   "metadata": {},
   "source": [
    "Вычисляем $$h \\equiv f^{−1}g \\pmod{q}$$"
   ]
  },
  {
   "cell_type": "code",
   "execution_count": 15,
   "id": "5eba475c",
   "metadata": {},
   "outputs": [],
   "source": [
    "h=(g*f_i)%q\n",
    "assert h==39245579300"
   ]
  },
  {
   "cell_type": "markdown",
   "id": "a0bbac38",
   "metadata": {},
   "source": [
    "##### Открытый ключ Алисы - это пара (q, h). Закрытый - (f, g)"
   ]
  },
  {
   "cell_type": "markdown",
   "id": "65821b8c",
   "metadata": {},
   "source": [
    "## Очередь Боба"
   ]
  },
  {
   "cell_type": "markdown",
   "id": "29e6bddc",
   "metadata": {},
   "source": [
    "* m - исходное сообщение в виде числа такое, что: $$0<m<\\sqrt{\\frac{q}{4}}$$\n",
    "* r - случайное целое число, такое что: $$0<r<\\sqrt{\\frac{q}{2}}$$"
   ]
  },
  {
   "cell_type": "code",
   "execution_count": 16,
   "id": "045ef3e4",
   "metadata": {},
   "outputs": [],
   "source": [
    "m = 123456\n",
    "r = 101010"
   ]
  },
  {
   "cell_type": "markdown",
   "id": "4911bb86",
   "metadata": {},
   "source": [
    "Шифруем исходное сообщение с помошью открытого ключа Алисы: $$e \\equiv rh+m \\pmod{q}$$ причём $$0 < e < q$$"
   ]
  },
  {
   "cell_type": "code",
   "execution_count": 17,
   "id": "d2c938b2",
   "metadata": {},
   "outputs": [],
   "source": [
    "e=(r*h+m)%q\n",
    "assert e==18357558717"
   ]
  },
  {
   "cell_type": "markdown",
   "id": "749a299c",
   "metadata": {},
   "source": [
    "##### Передаём **e** по каналу связи"
   ]
  },
  {
   "cell_type": "markdown",
   "id": "fcb4af99",
   "metadata": {},
   "source": [
    "## Алиса принимает сообщение"
   ]
  },
  {
   "cell_type": "markdown",
   "id": "4ff8c299",
   "metadata": {},
   "source": [
    "Вычисляем $$a \\equiv fe\\pmod{q}$$ причём $$0 < a < q$$ "
   ]
  },
  {
   "cell_type": "code",
   "execution_count": 18,
   "id": "2421b9dd",
   "metadata": {},
   "outputs": [],
   "source": [
    "a=(f*e)%q\n",
    "assert a==48314309316"
   ]
  },
  {
   "cell_type": "markdown",
   "id": "f7e946a3",
   "metadata": {},
   "source": [
    "Вычисляем $$f^{-1}$$ по модулю **g**"
   ]
  },
  {
   "cell_type": "code",
   "execution_count": 22,
   "id": "86d763e1",
   "metadata": {},
   "outputs": [],
   "source": [
    "f_i=invmod(f,g)\n",
    "assert f_i==193495"
   ]
  },
  {
   "cell_type": "markdown",
   "id": "5935aaff",
   "metadata": {},
   "source": [
    "Вычисляем $$b \\equiv f^{-1}a\\pmod{g}$$ причём $$0 < b < g$$"
   ]
  },
  {
   "cell_type": "code",
   "execution_count": 20,
   "id": "e5522bc4",
   "metadata": {},
   "outputs": [],
   "source": [
    "d=(f_i*a)%g\n",
    "assert d==123456"
   ]
  },
  {
   "cell_type": "markdown",
   "id": "415440c8",
   "metadata": {},
   "source": [
    "##### Готово! Мы получили исходное сообщение."
   ]
  },
  {
   "cell_type": "markdown",
   "id": "e60a8235",
   "metadata": {},
   "source": [
    "## Вмешивается Ева"
   ]
  },
  {
   "cell_type": "code",
   "execution_count": null,
   "id": "18984914",
   "metadata": {},
   "outputs": [],
   "source": []
  }
 ],
 "metadata": {
  "kernelspec": {
   "display_name": "Python 3",
   "language": "python",
   "name": "python3"
  },
  "language_info": {
   "codemirror_mode": {
    "name": "ipython",
    "version": 3
   },
   "file_extension": ".py",
   "mimetype": "text/x-python",
   "name": "python",
   "nbconvert_exporter": "python",
   "pygments_lexer": "ipython3",
   "version": "3.8.8"
  }
 },
 "nbformat": 4,
 "nbformat_minor": 5
}
