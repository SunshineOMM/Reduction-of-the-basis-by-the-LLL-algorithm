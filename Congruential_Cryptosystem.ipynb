{
 "cells": [
  {
   "cell_type": "code",
   "execution_count": 1,
   "metadata": {},
   "outputs": [],
   "source": [
    "def extEucl(m, n):\n",
    "    \"\"\"\n",
    "    Возвращает тройку (d,u,v) таких, что d — наибольший общий делитель пары (m,n) и d=um+vn\n",
    "    \"\"\"\n",
    "    (a, b) = (m, n)\n",
    "    u1 = 1; v1 = 0\n",
    "    u2 = 0; v2 = 1\n",
    "\n",
    "    while b != 0:\n",
    "        assert (a == u1*m + v1*n and b == u2*m + v2*n)\n",
    "\n",
    "        q = a // b; r = a % b\n",
    "        assert (a == q*b + r)\n",
    "\n",
    "        (a, b) = (b, r)\n",
    "        (u1, u2) = (u2, u1 - q*u2)\n",
    "        (v1, v2) = (v2, v1 - q*v2)\n",
    "\n",
    "    if a >= 0:\n",
    "        return (a, u1, v1)\n",
    "    else:\n",
    "        return (-a, -u1, -v1)\n",
    "    \n",
    "def invmod(x, m):\n",
    "    \"\"\"\n",
    "    Возвращает обратный к x элемент, если x обратим (т.е. целые числа x,m взаимно простые),\n",
    "    иначе - исключение типа ValueError\n",
    "    \"\"\"\n",
    "    assert(m != 0)\n",
    "    (d, u, v) = extEucl(m, x)\n",
    "    if d == 1:\n",
    "        return v%m\n",
    "    else:\n",
    "        raise ValueError(\"Element is not invertible modulo m\")\n",
    "        \n",
    "def calc_comparison(h,m,a=1):\n",
    "    \"\"\"\n",
    "    Решение сравнения: a*x≡h(mod m)\n",
    "    \"\"\"\n",
    "    q=[]\n",
    "    (a, b) = (m, a)\n",
    "    c=m\n",
    "    while b != 0:\n",
    "        (a, b) = (b, a%b)     \n",
    "        q.append((c-b)//a)\n",
    "        c=a\n",
    "        \n",
    "    P=[0 for i in range(len(q))]\n",
    "    for i in range(len(q)):\n",
    "        if i==0:\n",
    "            P[0]=q[0]\n",
    "        elif i==1:\n",
    "            P[1]=q[1]*P[0]+1\n",
    "        else:\n",
    "            P[i]=q[i]*P[i-1]+P[i-2]\n",
    "            \n",
    "    return (((-1)**(len(q)-1))*P[-2]*h)%m"
   ]
  },
  {
   "cell_type": "markdown",
   "metadata": {},
   "source": [
    "## Алиса выбирает открытые и закрытые параметры\n",
    "* q - большое положительное целое число\n",
    "* f - целое число, удовлетворяющее условию: $$f<\\sqrt{\\frac{q}{2}}$$\n",
    "* g - целое число, удовлетворяющее условию: $$\\sqrt{\\frac{q}{4}}<g<\\sqrt{\\frac{q}{2}}$$\n",
    "\n",
    "Так же, f и g подбираются таким образом, что:\n",
    "$$(f,qg) = 1$$"
   ]
  },
  {
   "cell_type": "code",
   "execution_count": 2,
   "metadata": {},
   "outputs": [],
   "source": [
    "q = 122430513841\n",
    "f = 231231\n",
    "g = 195698"
   ]
  },
  {
   "cell_type": "markdown",
   "metadata": {},
   "source": [
    "Вычисляем $$f^{-1}$$ по модулю **q**"
   ]
  },
  {
   "cell_type": "code",
   "execution_count": 3,
   "metadata": {},
   "outputs": [],
   "source": [
    "f_i=invmod(f,q)\n",
    "assert f_i==49194372303"
   ]
  },
  {
   "cell_type": "markdown",
   "metadata": {},
   "source": [
    "Вычисляем $$h \\equiv f^{−1}g \\pmod{q}$$"
   ]
  },
  {
   "cell_type": "code",
   "execution_count": 4,
   "metadata": {},
   "outputs": [],
   "source": [
    "h=(g*f_i)%q\n",
    "assert h==39245579300"
   ]
  },
  {
   "cell_type": "markdown",
   "metadata": {},
   "source": [
    "##### Открытый ключ Алисы - это пара (q, h). Закрытый - (f, g)\n",
    "## Очередь Боба\n",
    "* m - исходное сообщение в виде числа такое, что: $$0<m<\\sqrt{\\frac{q}{4}}$$\n",
    "* r - случайное целое число, такое что: $$0<r<\\sqrt{\\frac{q}{2}}$$"
   ]
  },
  {
   "cell_type": "code",
   "execution_count": 5,
   "metadata": {},
   "outputs": [],
   "source": [
    "m = 123456\n",
    "r = 101010"
   ]
  },
  {
   "cell_type": "markdown",
   "metadata": {},
   "source": [
    "Шифруем исходное сообщение с помошью открытого ключа Алисы: $$e \\equiv rh+m \\pmod{q}$$ причём $$0 < e < q$$"
   ]
  },
  {
   "cell_type": "code",
   "execution_count": 6,
   "metadata": {},
   "outputs": [],
   "source": [
    "e=(r*h+m)%q\n",
    "assert e==18357558717"
   ]
  },
  {
   "cell_type": "markdown",
   "metadata": {},
   "source": [
    "##### Передаём **e** по каналу связи\n",
    "## Алиса принимает сообщение\n",
    "Вычисляем $$a \\equiv fe\\pmod{q}$$ причём $$0 < a < q$$ "
   ]
  },
  {
   "cell_type": "code",
   "execution_count": 7,
   "metadata": {},
   "outputs": [],
   "source": [
    "a=(f*e)%q\n",
    "assert a==48314309316"
   ]
  },
  {
   "cell_type": "markdown",
   "metadata": {},
   "source": [
    "Вычисляем $$f^{-1}$$ по модулю **g**"
   ]
  },
  {
   "cell_type": "code",
   "execution_count": 8,
   "metadata": {},
   "outputs": [],
   "source": [
    "f_i=invmod(f,g)\n",
    "assert f_i==193495"
   ]
  },
  {
   "cell_type": "markdown",
   "metadata": {},
   "source": [
    "Вычисляем $$b \\equiv f^{-1}a\\pmod{g}$$ причём $$0 < b < g$$"
   ]
  },
  {
   "cell_type": "code",
   "execution_count": 9,
   "metadata": {},
   "outputs": [],
   "source": [
    "b=(f_i*a)%g\n",
    "assert b==123456"
   ]
  },
  {
   "cell_type": "markdown",
   "metadata": {},
   "source": [
    "##### Готово! Мы получили исходное сообщение.\n",
    "## Вмешивается Ева\n",
    "Её задача найти **F** и **G** такие, что: $$F(1, h) − R(0, q) =(F, G)$$ где \n",
    "* (1,h) и (0,q) - известные вектора\n",
    "* F, R - неизвестные целые\n",
    "* (F, G) - неизвестныый малый вектор\n",
    "##### Таким образом, Еве нужно найти короткий ненулевой вектор в наборе векторов $$L = a_1v_1 + a_2v_2 : a_1, a_2 ∈ Z $$"
   ]
  },
  {
   "cell_type": "code",
   "execution_count": 10,
   "metadata": {},
   "outputs": [],
   "source": [
    "import numpy as np\n",
    "import math\n",
    "\n",
    "def Gaussian_Lattice_Reduction(a,b):\n",
    "    v1,v2=a.copy(),b.copy()\n",
    "    norma= lambda v:math.sqrt(v[0]**2 + v[1]**2)\n",
    "    while True:\n",
    "        if norma(v2)<norma(v1):\n",
    "            v1,v2=v2,v1\n",
    "        m=round(np.inner(v1,v2)/(norma(v1)**2))\n",
    "        if m==0:\n",
    "            return v1,v2\n",
    "        v2=v2-m*v1"
   ]
  },
  {
   "cell_type": "code",
   "execution_count": 11,
   "metadata": {},
   "outputs": [
    {
     "name": "stdout",
     "output_type": "stream",
     "text": [
      "v1:\n",
      "[1.00000000e+00 3.92455793e+10]\n",
      "v2:\n",
      "[0.00000000e+00 1.22430514e+11]\n",
      "v1_:\n",
      "[-231231. -195698.]\n",
      "v2_:\n",
      "[-368222.  217835.]\n"
     ]
    }
   ],
   "source": [
    "v1,v2=np.array([1,h],dtype=\"float_\"),np.array([0,q],dtype=\"float_\")\n",
    "v1_,v2_=Gaussian_Lattice_Reduction(v1,v2)\n",
    "print(f\"v1:\\n{v1}\\nv2:\\n{v2}\")\n",
    "print(f\"v1_:\\n{v1_}\\nv2_:\\n{v2_}\")"
   ]
  },
  {
   "cell_type": "code",
   "execution_count": 30,
   "metadata": {},
   "outputs": [],
   "source": [
    "norma= lambda v:math.sqrt(v[0]**2 + v[1]**2)\n",
    "if norma(v1_)<norma(v2_):\n",
    "    private_keys=v1_\n",
    "else:\n",
    "    private_keys=v2_\n",
    "private_keys=np.abs(private_keys)"
   ]
  },
  {
   "cell_type": "code",
   "execution_count": 31,
   "metadata": {},
   "outputs": [],
   "source": [
    "find_f=np.max(private_keys)\n",
    "find_g=np.min(private_keys)"
   ]
  },
  {
   "cell_type": "code",
   "execution_count": 32,
   "metadata": {},
   "outputs": [
    {
     "name": "stdout",
     "output_type": "stream",
     "text": [
      "Взломанное сообщение: 123456\n"
     ]
    }
   ],
   "source": [
    "a=(f*e)%q\n",
    "f_i=invmod(f,g)\n",
    "print(\"Взломанное сообщение:\",(f_i*a)%g)"
   ]
  },
  {
   "cell_type": "markdown",
   "metadata": {},
   "source": [
    "## Функциональная реализация"
   ]
  },
  {
   "cell_type": "code",
   "execution_count": 46,
   "metadata": {},
   "outputs": [],
   "source": [
    "def encypt(m,r,h,q):\n",
    "    return (r*h+m)%q\n",
    "\n",
    "def decrypt(e,h,q,f,g):\n",
    "    a=(f*e)%q\n",
    "    f_i=invmod(f,g)\n",
    "    return (f_i*a)%g\n",
    "\n",
    "def hak_with_Gauss(e,h,q):\n",
    "    v1,v2=Gaussian_Lattice_Reduction(np.array([1,h],dtype=\"float_\"),np.array([0,q],dtype=\"float_\"))\n",
    "    norma= lambda v:math.sqrt(v[0]**2 + v[1]**2)\n",
    "    if norma(v1)<norma(v2):\n",
    "        private_keys=v1\n",
    "    else:\n",
    "        private_keys=v2\n",
    "    private_keys=np.abs(private_keys)\n",
    "    find_f=np.max(private_keys)\n",
    "    find_g=np.min(private_keys)\n",
    "    \n",
    "    a=(find_f*e)%q\n",
    "    f_i=invmod(find_f,find_g)\n",
    "    return int((f_i*a)%find_g)"
   ]
  },
  {
   "cell_type": "code",
   "execution_count": 47,
   "metadata": {},
   "outputs": [],
   "source": [
    "m_t = 128986 # сообщение\n",
    "r_t = 101010 # случайное число\n",
    "\n",
    "f_t = 231231 # секретный ключ Алисы\n",
    "g_t = 195698 # секретный ключ Алисы\n",
    "q_t = 122430513841 # открытый ключ Алисы\n",
    "h_t = 39245579300 # открытый ключ Алисы"
   ]
  },
  {
   "cell_type": "code",
   "execution_count": 48,
   "metadata": {},
   "outputs": [
    {
     "name": "stdout",
     "output_type": "stream",
     "text": [
      "Исходное: 128986 \n",
      "Зашифрованное: 18357564247 \n",
      "Расшифрованное: 128986 \n",
      "Взоманное: 128986\n"
     ]
    }
   ],
   "source": [
    "e_t=encypt(m_t,r_t,h_t,q_t)\n",
    "d_t=decrypt(e_t,h_t,q_t,f_t,g_t)\n",
    "hak_t=hak_with_Gauss(e_t,h_t,q_t)\n",
    "\n",
    "print(\"Исходное:\",m_t,\"\\nЗашифрованное:\",e_t,\"\\nРасшифрованное:\",d_t,\"\\nВзоманное:\",hak_t)"
   ]
  }
 ],
 "metadata": {
  "kernelspec": {
   "display_name": "SageMath 9.3",
   "language": "sage",
   "name": "sagemath"
  },
  "language_info": {
   "codemirror_mode": {
    "name": "ipython",
    "version": 3
   },
   "file_extension": ".py",
   "mimetype": "text/x-python",
   "name": "python",
   "nbconvert_exporter": "python",
   "pygments_lexer": "ipython3",
   "version": "3.7.10"
  }
 },
 "nbformat": 4,
 "nbformat_minor": 4
}
