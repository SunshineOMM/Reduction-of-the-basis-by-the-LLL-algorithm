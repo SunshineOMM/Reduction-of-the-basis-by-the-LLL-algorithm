{
 "cells": [
  {
   "cell_type": "markdown",
   "id": "4518de28",
   "metadata": {},
   "source": [
    "# Инициализация базиса решётки"
   ]
  },
  {
   "cell_type": "code",
   "execution_count": 146,
   "id": "82954ffe",
   "metadata": {},
   "outputs": [],
   "source": [
    "import numpy as np\n",
    "from numpy import linalg as linalg\n",
    "from matplotlib import pyplot as plt"
   ]
  },
  {
   "cell_type": "code",
   "execution_count": 166,
   "id": "207a274e",
   "metadata": {},
   "outputs": [
    {
     "name": "stdout",
     "output_type": "stream",
     "text": [
      "a:\n",
      "[4 6]\n",
      "b:\n",
      "[ 2 -6]\n"
     ]
    }
   ],
   "source": [
    "a=np.array([4,6])\n",
    "b=np.array([2,-6])\n",
    "print(f\"a:\\n{a}\\nb:\\n{b}\")"
   ]
  },
  {
   "cell_type": "code",
   "execution_count": 167,
   "id": "d172586d",
   "metadata": {},
   "outputs": [],
   "source": [
    "def th_gauss(a,b):\n",
    "    A=np.power(linalg.norm(a),2)\n",
    "    m=np.dot(a,b)/A\n",
    "    b=b-np.round(m,0)*a\n",
    "    B=np.power(linalg.norm(b),2)\n",
    "    while B<A:\n",
    "        a,b=b,a\n",
    "        A=B\n",
    "        m=np.dot(a,b)/A\n",
    "        b=b-np.round(m,0)*a\n",
    "        B=np.power(linalg.norm(b),2)\n",
    "    return a,b"
   ]
  },
  {
   "cell_type": "code",
   "execution_count": 168,
   "id": "33e518ed",
   "metadata": {},
   "outputs": [
    {
     "name": "stdout",
     "output_type": "stream",
     "text": [
      "a_:\n",
      "[6. 0.]\n",
      "b_:\n",
      "[-2.  6.]\n"
     ]
    }
   ],
   "source": [
    "a_,b_=th_gauss(a,b)\n",
    "print(f\"a_:\\n{a_}\\nb_:\\n{b_}\")"
   ]
  },
  {
   "cell_type": "code",
   "execution_count": 177,
   "id": "a03b9aa9",
   "metadata": {},
   "outputs": [],
   "source": [
    "def draw(a,b,a_,b_):\n",
    "    points_count=3\n",
    "    points=[a,b]\n",
    "    for x in range(-points_count//2+1,points_count//2+1):\n",
    "        for y in range(-points_count//2+1,points_count//2+1):\n",
    "            points.append(a*x+b*y)\n",
    "    points=np.array(points)\n",
    "    fig, ax = plt.subplots()\n",
    "    \n",
    "    ax.scatter(x=points[:,0],y=points[:,1],c=\"black\")\n",
    "    ax.scatter(x=[0],y=[0])\n",
    "    \n",
    "    ax.plot([0,a[0]],[0,a[1]],color=\"r\",label =\"before\")\n",
    "    ax.plot([0,b[0]],[0,b[1]],color=\"r\")\n",
    "    ax.plot([0,a_[0]],[0,a_[1]],color=\"g\",label =\"after\")\n",
    "    ax.plot([0,b_[0]],[0,b_[1]],color=\"g\")\n",
    "    \n",
    "    ax.minorticks_on()\n",
    "    ax.grid(which='minor',\n",
    "        color = 'black',\n",
    "        linewidth = 0.1)\n",
    "    ax.legend()\n",
    "    ax.grid()\n",
    "    plt.show()"
   ]
  },
  {
   "cell_type": "code",
   "execution_count": 178,
   "id": "8c4cccd7",
   "metadata": {},
   "outputs": [
    {
     "data": {
      "image/png": "[encoded data removed]",
      "text/plain": [
       "<Figure size 432x288 with 1 Axes>"
      ]
     },
     "metadata": {
      "needs_background": "light"
     },
     "output_type": "display_data"
    }
   ],
   "source": [
    "draw(a,b,a_,b_)"
   ]
  },
  {
   "cell_type": "code",
   "execution_count": null,
   "id": "0d6a2c6b",
   "metadata": {},
   "outputs": [],
   "source": []
  }
 ],
 "metadata": {
  "kernelspec": {
   "display_name": "Python 3",
   "language": "python",
   "name": "python3"
  },
  "language_info": {
   "codemirror_mode": {
    "name": "ipython",
    "version": 3
   },
   "file_extension": ".py",
   "mimetype": "text/x-python",
   "name": "python",
   "nbconvert_exporter": "python",
   "pygments_lexer": "ipython3",
   "version": "3.8.8"
  }
 },
 "nbformat": 4,
 "nbformat_minor": 5
}
