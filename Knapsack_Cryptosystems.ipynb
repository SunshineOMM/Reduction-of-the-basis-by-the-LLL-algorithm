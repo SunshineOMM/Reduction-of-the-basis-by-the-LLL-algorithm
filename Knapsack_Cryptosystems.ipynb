{
 "cells": [
  {
   "cell_type": "code",
   "execution_count": 1,
   "metadata": {},
   "outputs": [],
   "source": [
    "import numpy as np\n",
    "def extEucl(m, n):\n",
    "    \"\"\"\n",
    "    Возвращает тройку (d,u,v) таких, что d — наибольший общий делитель пары (m,n) и d=um+vn\n",
    "    \"\"\"\n",
    "    (a, b) = (m, n)\n",
    "    u1 = 1; v1 = 0\n",
    "    u2 = 0; v2 = 1\n",
    "\n",
    "    while b != 0:\n",
    "        assert (a == u1*m + v1*n and b == u2*m + v2*n)\n",
    "\n",
    "        q = a // b; r = a % b\n",
    "        assert (a == q*b + r)\n",
    "\n",
    "        (a, b) = (b, r)\n",
    "        (u1, u2) = (u2, u1 - q*u2)\n",
    "        (v1, v2) = (v2, v1 - q*v2)\n",
    "\n",
    "    if a >= 0:\n",
    "        return (a, u1, v1)\n",
    "    else:\n",
    "        return (-a, -u1, -v1)\n",
    "    \n",
    "def invmod(x, m):\n",
    "    \"\"\"\n",
    "    Возвращает обратный к x элемент, если x обратим (т.е. целые числа x,m взаимно простые),\n",
    "    иначе - исключение типа ValueError\n",
    "    \"\"\"\n",
    "    assert(m != 0)\n",
    "    (d, u, v) = extEucl(m, x)\n",
    "    if d == 1:\n",
    "        return v%m\n",
    "    else:\n",
    "        raise ValueError(\"Element is not invertible modulo m\")"
   ]
  },
  {
   "cell_type": "markdown",
   "metadata": {},
   "source": [
    "## Алиса формирует открытый и закрытый ключи\n",
    "$r = (r_1, . . . , r_n)$ - супер последовательность"
   ]
  },
  {
   "cell_type": "code",
   "execution_count": 2,
   "metadata": {},
   "outputs": [],
   "source": [
    "r = np.array((3, 11, 24, 50, 115))"
   ]
  },
  {
   "cell_type": "markdown",
   "metadata": {},
   "source": [
    "Выбираем $A$ и $B$ такие, что $B>2r_n$ и $(A,B)=1$"
   ]
  },
  {
   "cell_type": "code",
   "execution_count": 3,
   "metadata": {},
   "outputs": [],
   "source": [
    "A = 113\n",
    "B = 250"
   ]
  },
  {
   "cell_type": "markdown",
   "metadata": {},
   "source": [
    "Вычисляем $M_i = Ar_i \\pmod{B}$ для $i\\in[1,n]$"
   ]
  },
  {
   "cell_type": "code",
   "execution_count": 4,
   "metadata": {},
   "outputs": [],
   "source": [
    "M=np.array(list(map(lambda x: (x*A)%B,r)))\n",
    "assert np.array_equal(M, np.array([89, 243, 212, 150, 245])) "
   ]
  },
  {
   "cell_type": "markdown",
   "metadata": {},
   "source": [
    "#### Публичный ключ Алисы - $M$\n",
    "## Боб формирует сообщение\n",
    "Секретное сообщение $x$"
   ]
  },
  {
   "cell_type": "code",
   "execution_count": 5,
   "metadata": {},
   "outputs": [
    {
     "data": {
      "text/plain": [
       "array([1, 0, 1, 0, 1])"
      ]
     },
     "execution_count": 5,
     "metadata": {},
     "output_type": "execute_result"
    }
   ],
   "source": [
    "x = np.array((1, 0, 1, 0, 1))\n",
    "x"
   ]
  },
  {
   "cell_type": "markdown",
   "metadata": {},
   "source": [
    "Расчитываем $$S = x * M$$"
   ]
  },
  {
   "cell_type": "code",
   "execution_count": 6,
   "metadata": {},
   "outputs": [],
   "source": [
    "S = (x * M).sum()\n",
    "assert S==546"
   ]
  },
  {
   "cell_type": "markdown",
   "metadata": {},
   "source": [
    "###### Отправляем $S$ по каналу связи\n",
    "## Алиса расшифровывает послание"
   ]
  },
  {
   "cell_type": "markdown",
   "metadata": {},
   "source": [
    "Вычисляем $A^{-1}$ по модулю $B$"
   ]
  },
  {
   "cell_type": "code",
   "execution_count": 7,
   "metadata": {},
   "outputs": [],
   "source": [
    "A_=invmod(A,B)\n",
    "assert A_== 177"
   ]
  },
  {
   "cell_type": "markdown",
   "metadata": {},
   "source": [
    "Вычисляем $$S^′ ≡ A^{−1}S (mod B)$$"
   ]
  },
  {
   "cell_type": "code",
   "execution_count": 8,
   "metadata": {},
   "outputs": [],
   "source": [
    "S_=(A_*S)%B\n",
    "assert S_==142"
   ]
  },
  {
   "cell_type": "markdown",
   "metadata": {},
   "source": [
    "Затем решаем $$S^′ = x * r$$ где $x$ - исходное сообщение"
   ]
  },
  {
   "cell_type": "code",
   "execution_count": 14,
   "metadata": {},
   "outputs": [],
   "source": [
    "def find_x(r,S):\n",
    "    x=np.zeros(r.shape)\n",
    "    for i in range(len(r)-1,-1,-1):\n",
    "        if S>=r[i]:\n",
    "            x[i]=1\n",
    "            S-=r[i]\n",
    "        else:\n",
    "            x[i]=0\n",
    "    return x.astype(\"int\")"
   ]
  },
  {
   "cell_type": "code",
   "execution_count": 15,
   "metadata": {},
   "outputs": [
    {
     "name": "stdout",
     "output_type": "stream",
     "text": [
      "Передаваемое сообщение: [1 0 1 0 1]\n"
     ]
    }
   ],
   "source": [
    "x=find_x(r,S_)\n",
    "print(\"Передаваемое сообщение:\",x)"
   ]
  },
  {
   "cell_type": "markdown",
   "metadata": {},
   "source": [
    "## Функциональная реализация"
   ]
  },
  {
   "cell_type": "code",
   "execution_count": 26,
   "metadata": {},
   "outputs": [],
   "source": [
    "def encrypt(x,M):\n",
    "    return(x * M).sum()\n",
    "def decrypt(S,A,B,r):\n",
    "    A_=invmod(A,B)\n",
    "    S_=(A_*S)%B\n",
    "    return find_x(r,S_)\n",
    "def hak():\n",
    "    pass"
   ]
  },
  {
   "cell_type": "code",
   "execution_count": 27,
   "metadata": {},
   "outputs": [],
   "source": [
    "r_t = np.array((3, 11, 24, 50, 115)) # секретный ключ Алисы\n",
    "A_t = 113 # секретный ключ Алисы\n",
    "B_t = 250 # секретный ключ Алисы\n",
    "M_t=np.array(list(map(lambda x: (x*A_t)%B_t,r_t))) # открытый ключ Алисы\n",
    "\n",
    "x_t = np.array((1, 0, 1, 0, 1)) # сообщение"
   ]
  },
  {
   "cell_type": "code",
   "execution_count": 28,
   "metadata": {},
   "outputs": [
    {
     "name": "stdout",
     "output_type": "stream",
     "text": [
      "Исходное: [1 0 1 0 1] \n",
      "Зашифрованное: 546 \n",
      "Расшифрованное: [1 0 1 0 1] \n",
      "Взоманное: None\n"
     ]
    }
   ],
   "source": [
    "S_t=encrypt(x_t,M_t)\n",
    "d_t=decrypt(S_t,A_t,B_t,r_t)\n",
    "hak_t=hak()\n",
    "print(\"Исходное:\",x_t,\"\\nЗашифрованное:\",e_t,\"\\nРасшифрованное:\",d_t,\"\\nВзоманное:\",hak_t)"
   ]
  },
  {
   "cell_type": "code",
   "execution_count": null,
   "metadata": {},
   "outputs": [],
   "source": []
  }
 ],
 "metadata": {
  "kernelspec": {
   "display_name": "SageMath 9.3",
   "language": "sage",
   "name": "sagemath"
  },
  "language_info": {
   "codemirror_mode": {
    "name": "ipython",
    "version": 3
   },
   "file_extension": ".py",
   "mimetype": "text/x-python",
   "name": "python",
   "nbconvert_exporter": "python",
   "pygments_lexer": "ipython3",
   "version": "3.7.10"
  }
 },
 "nbformat": 4,
 "nbformat_minor": 4
}
