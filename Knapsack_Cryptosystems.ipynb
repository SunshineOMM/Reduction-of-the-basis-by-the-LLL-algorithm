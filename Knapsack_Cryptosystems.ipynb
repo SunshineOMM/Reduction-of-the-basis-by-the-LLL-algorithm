{
 "cells": [
  {
   "cell_type": "code",
   "execution_count": 1,
   "metadata": {},
   "outputs": [],
   "source": [
    "import numpy as np\n",
    "def extEucl(m, n):\n",
    "    \"\"\"\n",
    "    Возвращает тройку (d,u,v) таких, что d — наибольший общий делитель пары (m,n) и d=um+vn\n",
    "    \"\"\"\n",
    "    (a, b) = (m, n)\n",
    "    u1 = 1; v1 = 0\n",
    "    u2 = 0; v2 = 1\n",
    "\n",
    "    while b != 0:\n",
    "        assert (a == u1*m + v1*n and b == u2*m + v2*n)\n",
    "\n",
    "        q = a // b; r = a % b\n",
    "        assert (a == q*b + r)\n",
    "\n",
    "        (a, b) = (b, r)\n",
    "        (u1, u2) = (u2, u1 - q*u2)\n",
    "        (v1, v2) = (v2, v1 - q*v2)\n",
    "\n",
    "    if a >= 0:\n",
    "        return (a, u1, v1)\n",
    "    else:\n",
    "        return (-a, -u1, -v1)\n",
    "    \n",
    "def invmod(x, m):\n",
    "    \"\"\"\n",
    "    Возвращает обратный к x элемент, если x обратим (т.е. целые числа x,m взаимно простые),\n",
    "    иначе - исключение типа ValueError\n",
    "    \"\"\"\n",
    "    assert(m != 0)\n",
    "    (d, u, v) = extEucl(m, x)\n",
    "    if d == 1:\n",
    "        return v%m\n",
    "    else:\n",
    "        raise ValueError(\"Element is not invertible modulo m\")"
   ]
  },
  {
   "cell_type": "markdown",
   "metadata": {},
   "source": [
    "## Алиса формирует открытый и закрытый ключи\n",
    "$r = (r_1, . . . , r_n)$ - супер последовательность"
   ]
  },
  {
   "cell_type": "code",
   "execution_count": 2,
   "metadata": {},
   "outputs": [],
   "source": [
    "r = np.array((3, 11, 24, 50, 115))"
   ]
  },
  {
   "cell_type": "markdown",
   "metadata": {},
   "source": [
    "Выбираем $A$ и $B$ такие, что $B>2r_n$ и $(A,B)=1$"
   ]
  },
  {
   "cell_type": "code",
   "execution_count": 3,
   "metadata": {},
   "outputs": [],
   "source": [
    "A = 113\n",
    "B = 250"
   ]
  },
  {
   "cell_type": "markdown",
   "metadata": {},
   "source": [
    "Вычисляем $M_i = Ar_i \\pmod{B}$ для $i\\in[1,n]$"
   ]
  },
  {
   "cell_type": "code",
   "execution_count": 4,
   "metadata": {},
   "outputs": [],
   "source": [
    "M=np.array(list(map(lambda x: (x*A)%B,r)))\n",
    "assert np.array_equal(M, np.array([89, 243, 212, 150, 245])) "
   ]
  },
  {
   "cell_type": "markdown",
   "metadata": {},
   "source": [
    "#### Публичный ключ Алисы - $M$\n",
    "## Боб формирует сообщение\n",
    "Секретное сообщение $x$"
   ]
  },
  {
   "cell_type": "code",
   "execution_count": 5,
   "metadata": {},
   "outputs": [
    {
     "data": {
      "text/plain": [
       "array([1, 0, 1, 0, 1])"
      ]
     },
     "execution_count": 5,
     "metadata": {},
     "output_type": "execute_result"
    }
   ],
   "source": [
    "x = np.array((1, 0, 1, 0, 1))\n",
    "x"
   ]
  },
  {
   "cell_type": "markdown",
   "metadata": {},
   "source": [
    "Расчитываем $$S = x * M$$"
   ]
  },
  {
   "cell_type": "code",
   "execution_count": 6,
   "metadata": {},
   "outputs": [],
   "source": [
    "S = (x * M).sum()\n",
    "assert S==546"
   ]
  },
  {
   "cell_type": "markdown",
   "metadata": {},
   "source": [
    "###### Отправляем $S$ по каналу связи\n",
    "## Алиса расшифровывает послание"
   ]
  },
  {
   "cell_type": "markdown",
   "metadata": {},
   "source": [
    "Вычисляем $A^{-1}$ по модулю $B$"
   ]
  },
  {
   "cell_type": "code",
   "execution_count": 7,
   "metadata": {},
   "outputs": [],
   "source": [
    "A_=invmod(A,B)\n",
    "assert A_== 177"
   ]
  },
  {
   "cell_type": "markdown",
   "metadata": {},
   "source": [
    "Вычисляем $$S^′ ≡ A^{−1}S (mod B)$$"
   ]
  },
  {
   "cell_type": "code",
   "execution_count": 8,
   "metadata": {},
   "outputs": [],
   "source": [
    "S_=(A_*S)%B\n",
    "assert S_==142"
   ]
  },
  {
   "cell_type": "markdown",
   "metadata": {},
   "source": [
    "Затем решаем $$S^′ = x * r$$ где $x$ - исходное сообщение"
   ]
  },
  {
   "cell_type": "code",
   "execution_count": 9,
   "metadata": {},
   "outputs": [],
   "source": [
    "def find_x(r,S):\n",
    "    x=np.zeros(r.shape)\n",
    "    for i in range(len(r)-1,-1,-1):\n",
    "        if S>=r[i]:\n",
    "            x[i]=1\n",
    "            S-=r[i]\n",
    "        else:\n",
    "            x[i]=0\n",
    "    return x.astype(\"int\")"
   ]
  },
  {
   "cell_type": "code",
   "execution_count": 10,
   "metadata": {},
   "outputs": [
    {
     "name": "stdout",
     "output_type": "stream",
     "text": [
      "Передаваемое сообщение: [1 0 1 0 1]\n"
     ]
    }
   ],
   "source": [
    "x=find_x(r,S_)\n",
    "print(\"Передаваемое сообщение:\",x)"
   ]
  },
  {
   "cell_type": "markdown",
   "metadata": {},
   "source": [
    "## Вмешивается Ева\n",
    "Формируем матрицу вида:\n",
    "$$v_1 = (2, 0, 0, . . . , 0, m_1),$$\n",
    "$$v_2 = (0, 2, 0, . . . , 0, m_2),$$\n",
    "$$... ...$$\n",
    "$$v_n = (0, 0, 0, . . . , 2, m_n),$$\n",
    "$$v_{n+1} = (1, 1, 1, . . . , 1, S)$$"
   ]
  },
  {
   "cell_type": "code",
   "execution_count": 11,
   "metadata": {},
   "outputs": [
    {
     "data": {
      "text/plain": [
       "array([[  2,   0,   0,   0,   0,  89],\n",
       "       [  0,   2,   0,   0,   0, 243],\n",
       "       [  0,   0,   2,   0,   0, 212],\n",
       "       [  0,   0,   0,   2,   0, 150],\n",
       "       [  0,   0,   0,   0,   2, 245],\n",
       "       [  1,   1,   1,   1,   1, 546]])"
      ]
     },
     "execution_count": 11,
     "metadata": {},
     "output_type": "execute_result"
    }
   ],
   "source": [
    "V=np.array([[ 1 if i==len(M) else (2 if i==j else 0)  for j in range(len(M))] for i in range(len(M)+1)])\n",
    "last_col=np.array([S if i==len(M) else M[i] for i in range(len(M)+1)]).reshape(-1,1)\n",
    "V = np.hstack([V, last_col])\n",
    "V"
   ]
  },
  {
   "cell_type": "markdown",
   "metadata": {},
   "source": [
    "Получим решётку $L$\n",
    "$$L = \\{a_1v_1 + a_2v_2 + · · · + a_nv_n + a_{n+1}v_{n+1} : a_1, a_2, . . . , a_{n+1} ∈ Z\\}$$\n",
    "Предположив, что $x = (x_1, . . . , x_n)$ - решение данной задачи:\n",
    "$$t =\\displaystyle\\sum_{i=1}^{n} x_iv_i − v_{n+1} = (2x_1 − 1, 2x_2 − 1, . . . , 2x_n − 1, 0),$$"
   ]
  },
  {
   "cell_type": "markdown",
   "metadata": {},
   "source": [
    "Применяем алгоритм LLL для редукции базиса"
   ]
  },
  {
   "cell_type": "code",
   "execution_count": 12,
   "metadata": {},
   "outputs": [],
   "source": [
    "def gram_schmid(b):\n",
    "    b_=np.zeros(b.shape)\n",
    "    m=np.zeros(b.shape)\n",
    "    b_[0]=b[0]\n",
    "    for i in range(1,b.shape[1]):\n",
    "        v=b[i]\n",
    "        for j in range(i-1,-1,-1):\n",
    "            m[i][j]=np.dot(b[i],b_[j])/np.dot(b_[j],b_[j])\n",
    "            v=v-m[i][j]*b_[j]\n",
    "        b_[i]=v\n",
    "    return b_.astype(\"int\"),m\n",
    "norma = lambda x: np.power(math.sqrt(np.array([i ** 2 for i in x]).sum()),2)\n",
    "def LLL(b, delta=0.75):\n",
    "    b_, m = gram_schmid(b)\n",
    "    B = np.array([norma(i) for i in b_])\n",
    "    q = np.zeros(b.shape[1])\n",
    "    n = b.shape[1]-1\n",
    "    k = 1\n",
    "    old_b=b.copy()\n",
    "    old_b_ = b_.copy()\n",
    "    counter=0\n",
    "    while k <= n:\n",
    "        for j in range(k-1,-1,-1):\n",
    "            q[j] = round(m[k][j])\n",
    "            b[k] = b[k] - q[j] * b[j]\n",
    "            for i in range(k-1,-1,-1):\n",
    "                m[k][i] = np.inner(b[k], b_[i]) / np.inner(b_[i], b_[i])\n",
    "        if B[k] >= (delta - np.power(m[k][k - 1], 2)) * B[k - 1]:\n",
    "            k += 1\n",
    "        else:\n",
    "            b[k], b[k - 1] = b[k - 1].copy(), b[k].copy()\n",
    "            tmp_b,tmp_m=gram_schmid(b)\n",
    "            b_[k],b_[k - 1]=tmp_b[k],tmp_b[k-1]\n",
    "            m[k],m[k - 1]=tmp_m[k],tmp_m[k-1]\n",
    "            B = np.array([norma(i) for i in b_])\n",
    "            k = max(1, k - 1)\n",
    "\n",
    "        if (old_b == b).all() and (old_b_ == b_).all() and counter>2:\n",
    "            return b\n",
    "        else:\n",
    "            old_b = b.copy()\n",
    "            old_b_ = b_.copy()\n",
    "            counter+=1\n",
    "    return b"
   ]
  },
  {
   "cell_type": "code",
   "execution_count": 13,
   "metadata": {},
   "outputs": [
    {
     "data": {
      "text/plain": [
       "array([[ -6,   2,   0,   0,   0, -24],\n",
       "       [-16,   6,   0,   0,   0,  17],\n",
       "       [-32,  10,   2,   0,   0,   3],\n",
       "       [ -1,   1,  -1,   1,  -1,   0],\n",
       "       [  2,  -2,   0,   2,   0,  -4],\n",
       "       [  0,  -2,   0,   0,   2,   2]])"
      ]
     },
     "execution_count": 13,
     "metadata": {},
     "output_type": "execute_result"
    }
   ],
   "source": [
    "b_=LLL(V.copy())\n",
    "b_"
   ]
  },
  {
   "cell_type": "code",
   "execution_count": 14,
   "metadata": {},
   "outputs": [
    {
     "name": "stdout",
     "output_type": "stream",
     "text": [
      "Результат взлома: [1 0 1 0 1]\n"
     ]
    }
   ],
   "source": [
    "smallest_v=sorted(list(b_),key=norma)[0] # наименьшая строчка по норме из полученного после LLL базиса\n",
    "res=np.dot(smallest_v,np.linalg.inv(V)).astype(\"int\")*-1\n",
    "print(\"Результат взлома:\",res[:-1])"
   ]
  },
  {
   "cell_type": "markdown",
   "metadata": {},
   "source": [
    "## Функциональная реализация"
   ]
  },
  {
   "cell_type": "code",
   "execution_count": 22,
   "metadata": {},
   "outputs": [],
   "source": [
    "def encrypt(x,M):\n",
    "    return(x * M).sum()\n",
    "def decrypt(S,A,B,r):\n",
    "    A_=invmod(A,B)\n",
    "    S_=(A_*S)%B\n",
    "    return find_x(r,S_)\n",
    "def hak(M,S):\n",
    "    V=np.array([[ 1 if i==len(M) else (2 if i==j else 0)  for j in range(len(M))] for i in range(len(M)+1)])\n",
    "    last_col=np.array([S if i==len(M) else M[i] for i in range(len(M)+1)]).reshape(-1,1)\n",
    "    V = np.hstack([V, last_col])\n",
    "    b_=LLL(V.copy())\n",
    "    smallest_v=sorted(list(b_),key=norma)[0]\n",
    "    return (np.dot(smallest_v,np.linalg.inv(V)).astype(\"int\")*-1)[:-1]"
   ]
  },
  {
   "cell_type": "code",
   "execution_count": 23,
   "metadata": {},
   "outputs": [],
   "source": [
    "r_t = np.array((3, 11, 24, 50, 115)) # секретный ключ Алисы\n",
    "A_t = 113 # секретный ключ Алисы\n",
    "B_t = 250 # секретный ключ Алисы\n",
    "M_t=np.array(list(map(lambda x: (x*A_t)%B_t,r_t))) # открытый ключ Алисы\n",
    "\n",
    "x_t = np.array((1, 0, 1, 0, 1)) # сообщение"
   ]
  },
  {
   "cell_type": "code",
   "execution_count": 24,
   "metadata": {},
   "outputs": [
    {
     "name": "stdout",
     "output_type": "stream",
     "text": [
      "Исходное: [1 0 1 0 1] \n",
      "Зашифрованное: 546 \n",
      "Расшифрованное: [1 0 1 0 1] \n",
      "Взоманное: [1 0 1 0 1]\n"
     ]
    }
   ],
   "source": [
    "S_t=encrypt(x_t,M_t)\n",
    "d_t=decrypt(S_t,A_t,B_t,r_t)\n",
    "hak_t=hak(M_t,S_t)\n",
    "print(\"Исходное:\",x_t,\"\\nЗашифрованное:\",S_t,\"\\nРасшифрованное:\",d_t,\"\\nВзоманное:\",hak_t)"
   ]
  }
 ],
 "metadata": {
  "kernelspec": {
   "display_name": "SageMath 9.3",
   "language": "sage",
   "name": "sagemath"
  },
  "language_info": {
   "codemirror_mode": {
    "name": "ipython",
    "version": 3
   },
   "file_extension": ".py",
   "mimetype": "text/x-python",
   "name": "python",
   "nbconvert_exporter": "python",
   "pygments_lexer": "ipython3",
   "version": "3.7.10"
  }
 },
 "nbformat": 4,
 "nbformat_minor": 4
}
